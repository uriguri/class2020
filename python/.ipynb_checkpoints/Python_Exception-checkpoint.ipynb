{
 "cells": [
  {
   "cell_type": "code",
   "execution_count": 3,
   "metadata": {},
   "outputs": [
    {
     "name": "stdout",
     "output_type": "stream",
     "text": [
      "정수를 입력해주세요. >>ㄹㄹ\n",
      "예외발생~~!!\n"
     ]
    }
   ],
   "source": [
    "try:\n",
    "    number_input_a = int(input('정수를 입력해주세요. >>'))\n",
    "    \n",
    "    print(\"제곱의 연산 결과 :\", number_input_a*number_input_a)\n",
    "    \n",
    "except: #어떠한 예외가 발생하면 이곳에서 처리\n",
    "    print(\"예외발생~~!!\")\n",
    "    "
   ]
  },
  {
   "cell_type": "code",
   "execution_count": 7,
   "metadata": {},
   "outputs": [
    {
     "name": "stdout",
     "output_type": "stream",
     "text": [
      "정수를 입력해주세요. >>ㄴㅁㅇ\n",
      "예외가 발생했습니다.\n"
     ]
    }
   ],
   "source": [
    "try:\n",
    "    #예외 예상 코드\n",
    "    number_input_a = int(input('정수를 입력해주세요. >>'))\n",
    "\n",
    "except: #어떠한 예외가 발생하면 이곳에서 처리\n",
    "    #pass # 처리할 내용이 없을 때 기술\n",
    "    print('예외가 발생했습니다.')\n",
    "    \n",
    "else:\n",
    "    #예외가 발생하지 않았을 때 처리 구문\n",
    "    print(\"제곱의 연산 결과 :\", number_input_a*number_input_a)"
   ]
  },
  {
   "cell_type": "code",
   "execution_count": 9,
   "metadata": {},
   "outputs": [
    {
     "name": "stdout",
     "output_type": "stream",
     "text": [
      "정수를 입력해주세요. >>ㅁㄴㅇ\n",
      "예외가 발생했습니다.\n",
      "프로그램을 종료합니다.\n"
     ]
    }
   ],
   "source": [
    "try:\n",
    "    #예외 예상 코드\n",
    "    number_input_a = int(input('정수를 입력해주세요. >>'))\n",
    "\n",
    "except: #어떠한 예외가 발생하면 이곳에서 처리\n",
    "    #pass # 처리할 내용이 없을 때 기술\n",
    "    print('예외가 발생했습니다.')\n",
    "    \n",
    "else:\n",
    "    #예외가 발생하지 않았을 때 처리 구문\n",
    "    print(\"제곱의 연산 결과 :\", number_input_a*number_input_a)\n",
    "    \n",
    "finally:\n",
    "    print('프로그램을 종료합니다.')"
   ]
  },
  {
   "cell_type": "code",
   "execution_count": 17,
   "metadata": {},
   "outputs": [
    {
     "name": "stdout",
     "output_type": "stream",
     "text": [
      "리스트의 index를 입력하세요 >>df\n",
      "숫자만 입력해주세요\n"
     ]
    }
   ],
   "source": [
    "list_a = [10,20,30,40,50]\n",
    "\n",
    "try:\n",
    "    idx = int(input('리스트의 index를 입력하세요 >>'))\n",
    "    \n",
    "    print('{}번째 요소 :{}'.format(idx,list_a[idx]))\n",
    "    \n",
    "except ValueError as ve:\n",
    "    print('숫자만 입력해주세요')\n",
    "        \n",
    "except IndexError as ie:\n",
    "    print('리스트의 범위를 벗어난 인덱스 값입니다')\n"
   ]
  },
  {
   "cell_type": "code",
   "execution_count": null,
   "metadata": {},
   "outputs": [],
   "source": [
    "\n"
   ]
  },
  {
   "cell_type": "code",
   "execution_count": null,
   "metadata": {},
   "outputs": [],
   "source": []
  },
  {
   "cell_type": "code",
   "execution_count": null,
   "metadata": {},
   "outputs": [],
   "source": []
  }
 ],
 "metadata": {
  "kernelspec": {
   "display_name": "Python 3",
   "language": "python",
   "name": "python3"
  },
  "language_info": {
   "codemirror_mode": {
    "name": "ipython",
    "version": 3
   },
   "file_extension": ".py",
   "mimetype": "text/x-python",
   "name": "python",
   "nbconvert_exporter": "python",
   "pygments_lexer": "ipython3",
   "version": "3.8.5"
  }
 },
 "nbformat": 4,
 "nbformat_minor": 4
}
