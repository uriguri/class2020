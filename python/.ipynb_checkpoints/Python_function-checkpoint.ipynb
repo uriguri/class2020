{
 "cells": [
  {
   "cell_type": "code",
   "execution_count": 5,
   "metadata": {},
   "outputs": [
    {
     "name": "stdout",
     "output_type": "stream",
     "text": [
      "['AA', 'BB', 'CC']\n",
      "\n",
      "<enumerate object at 0x0000026833221280>\n",
      "[(0, 'AA'), (1, 'BB'), (2, 'CC')]\n",
      "0 AA\n",
      "0 AA\n",
      "1 BB\n",
      "2 CC\n"
     ]
    }
   ],
   "source": [
    "list_ex = ['AA', 'BB', 'CC']\n",
    "\n",
    "# list_ex 출력\n",
    "print(list_ex)\n",
    "print()\n",
    "\n",
    "# list-ex -> enumerate() : 요소들의 index를 사용하기 위해 enumerate 객체로 변환 필요\n",
    "list_ex_en = enumerate(list_ex)\n",
    "print(list_ex_en)\n",
    "\n",
    "# enumerate 객체 -> list 객체 \n",
    "list_ex2 = list(list_ex_en)\n",
    "print(list_ex2)\n",
    "\n",
    "# 변수의 초기화 ( 할당)\n",
    "i, v = list_ex2[0]\n",
    "\n",
    "print(i, v)\n",
    "\n",
    "for i, v in list_ex2:\n",
    "    print(i, v)"
   ]
  },
  {
   "cell_type": "code",
   "execution_count": 9,
   "metadata": {},
   "outputs": [
    {
     "name": "stdout",
     "output_type": "stream",
     "text": [
      "{'name': '메시', 'number': 10, 'team': 'FCB'}\n",
      "\n",
      "dict_items([('name', '메시'), ('number', 10), ('team', 'FCB')])\n",
      "\n",
      "===========================\n",
      "name : 메시\n",
      "number : 10\n",
      "team : FCB\n"
     ]
    }
   ],
   "source": [
    "# dic의 속성을 일괄 처리\n",
    "# item() : dic의 속성과 값을 하나로묶어 요소로 만들고 이 요소들을 가지는 리스트를 반환\n",
    "\n",
    "dic_player = {\n",
    "    'name' : '메시',\n",
    "    'number' : 10,\n",
    "    'team' : 'FCB'\n",
    "}\n",
    "\n",
    "print(dic_player)\n",
    "print()\n",
    "\n",
    "# dic -> list\n",
    "list_player_att = dic_player.items()\n",
    "print(list_player_att)\n",
    "\n",
    "print()\n",
    "print('===========================')\n",
    "for key, value in list_player_att:\n",
    "    print(key, ':', value)"
   ]
  },
  {
   "cell_type": "code",
   "execution_count": 19,
   "metadata": {},
   "outputs": [
    {
     "name": "stdout",
     "output_type": "stream",
     "text": [
      "[0, 4, 16, 36, 64, 100, 144, 196, 256, 324]\n",
      "\n",
      "[0, 4, 16, 36, 64, 100, 144, 196, 256, 324]\n",
      "[144, 196, 256, 324]\n"
     ]
    }
   ],
   "source": [
    "# list 요소 생성\n",
    "# 1\n",
    "array = []\n",
    "\n",
    "for i in range(0, 20, 2):\n",
    "    array.append(i*i)\n",
    "    \n",
    "print(array)\n",
    "print()\n",
    "\n",
    "# 2\n",
    "array2 = [i*i for i in range(0,20,2)]\n",
    "print(array2)\n",
    "\n",
    "# 3\n",
    "array3 = [i for i in array2 if i>100]\n",
    "print(array3)\n"
   ]
  },
  {
   "cell_type": "code",
   "execution_count": 20,
   "metadata": {},
   "outputs": [
    {
     "name": "stdout",
     "output_type": "stream",
     "text": [
      "A\n",
      "A\n",
      "A\n"
     ]
    }
   ],
   "source": [
    "# 함수 정의\n",
    "# def 함수이름 (매개변수, 매개변수...)\n",
    "\n",
    "def print_3_times():\n",
    "    print('A')\n",
    "    print('A')\n",
    "    print('A')\n",
    "    \n",
    "print_3_times()\n"
   ]
  },
  {
   "cell_type": "code",
   "execution_count": 23,
   "metadata": {},
   "outputs": [
    {
     "name": "stdout",
     "output_type": "stream",
     "text": [
      "Python\n",
      "Python\n",
      "Python\n",
      "Python\n",
      "Python\n",
      "함수의 기능 실행 완료\n"
     ]
    }
   ],
   "source": [
    "def print_n_times(val, n):\n",
    "    for i in range(n):\n",
    "        print(val)\n",
    "    print('함수의 기능 실행 완료')\n",
    "    \n",
    "print_n_times('Python', 5)"
   ]
  },
  {
   "cell_type": "code",
   "execution_count": 32,
   "metadata": {},
   "outputs": [
    {
     "name": "stdout",
     "output_type": "stream",
     "text": [
      "Hi~\n",
      "funny\n",
      "Python Programming\n",
      "\n",
      "Hi~\n",
      "funny\n",
      "Python Programming\n",
      "\n",
      "Hi~\n",
      "funny\n",
      "Python Programming\n",
      "\n",
      "함수 종료\n"
     ]
    }
   ],
   "source": [
    "# 함수의 가변 매개변수\n",
    "def print_times(n, *vals):\n",
    "    for i in range(n):\n",
    "        for val in vals:\n",
    "            print(val)\n",
    "        print()\n",
    "    print('함수 종료')\n",
    "    \n",
    "print_times(3, 'Hi~', 'funny', 'Python Programming')    "
   ]
  },
  {
   "cell_type": "code",
   "execution_count": 31,
   "metadata": {},
   "outputs": [
    {
     "name": "stdout",
     "output_type": "stream",
     "text": [
      "aa bb cc\taa,bb,cc\n",
      "11:11:32\n"
     ]
    }
   ],
   "source": [
    "# 기본 매개변수\n",
    "# print -> sep = ' ' , end='\\n' , file=sys.stdout, flush=False\n",
    "\n",
    "print('aa','bb','cc', end='\\t')\n",
    "print('aa','bb','cc', sep=',')\n",
    "print('11','11','32', sep=':')"
   ]
  },
  {
   "cell_type": "code",
   "execution_count": null,
   "metadata": {},
   "outputs": [],
   "source": []
  },
  {
   "cell_type": "code",
   "execution_count": 30,
   "metadata": {},
   "outputs": [
    {
     "name": "stdout",
     "output_type": "stream",
     "text": [
      "3\n",
      "Hi~\n",
      "funny\n",
      "Python Programming\n",
      "\n",
      "3\n",
      "Hi~\n",
      "funny\n",
      "Python Programming\n",
      "\n",
      "함수 종료\n"
     ]
    }
   ],
   "source": [
    "# 함수의 가변 매개변수\n",
    "def print_nn_times(*vals, n=2):\n",
    "    for i in range(n):\n",
    "        for val in vals:\n",
    "            print(val)\n",
    "        print()\n",
    "    print('함수 종료')\n",
    "    \n",
    "print_nn_times(3, 'Hi~', 'funny', 'Python Programming')    "
   ]
  },
  {
   "cell_type": "code",
   "execution_count": 33,
   "metadata": {},
   "outputs": [
    {
     "name": "stdout",
     "output_type": "stream",
     "text": [
      "None\n"
     ]
    }
   ],
   "source": [
    "# 함수의 return\n",
    "def func():\n",
    "    return\n",
    "print(func())"
   ]
  },
  {
   "cell_type": "code",
   "execution_count": 36,
   "metadata": {},
   "outputs": [
    {
     "name": "stdout",
     "output_type": "stream",
     "text": [
      "10 20 30 40 50 60\n",
      "20 10 30 40 50 60\n"
     ]
    }
   ],
   "source": [
    "# 튜플\n",
    "\n",
    "[a,b] = [10,20]\n",
    "(c,d) = (30,40)\n",
    "\n",
    "e,f = 50,60\n",
    "\n",
    "print(a,b,c,d,e,f)\n",
    "\n",
    "\n",
    "a,b = b,a\n",
    "print(a,b,c,d,e,f)"
   ]
  },
  {
   "cell_type": "code",
   "execution_count": 47,
   "metadata": {},
   "outputs": [
    {
     "name": "stdout",
     "output_type": "stream",
     "text": [
      "<map object at 0x0000026833CD6DC0>\n",
      "[1, 4, 9, 16, 25]\n",
      "<filter object at 0x0000026833725F10>\n",
      "[1, 2]\n"
     ]
    }
   ],
   "source": [
    "def power(item):\n",
    "    return item*item\n",
    "\n",
    "\n",
    "\n",
    "def under_3(item):\n",
    "    return item<3;\n",
    "\n",
    "list_a = [1,2,3,4,5]\n",
    "\n",
    "# map() 이용해서 리스트 생성\n",
    "# output_a = map(power, list_a)\n",
    "# 람다\n",
    "output_a = map(lambda x: x*x, list_a)\n",
    "print(output_a)\n",
    "output_list_a = list(output_a)\n",
    "print(output_list_a)\n",
    "\n",
    "# filter\n",
    "# output_b = filter(under_3, list_a)\n",
    "# 람다\n",
    "output_b = filter(lambda x: x<3, list_a)\n",
    "print(output_b)\n",
    "\n",
    "output_list_b = list(output_b)\n",
    "print(output_list_b)\n"
   ]
  },
  {
   "cell_type": "code",
   "execution_count": 48,
   "metadata": {},
   "outputs": [],
   "source": [
    "# open() : 파일처리 I/O 처리할때 사용\n",
    "file = open('basic.text', 'w')\n",
    "\n",
    "file.write('Hello~Python!!')\n",
    "\n",
    "file.close()"
   ]
  },
  {
   "cell_type": "code",
   "execution_count": 49,
   "metadata": {},
   "outputs": [],
   "source": [
    "# with : open() 함수 사용 후 close() 함수를 자동으로 호출\n",
    "with open('basic.txt', 'w') as file:\n",
    "    file.write('Hi~~~~~~~~~~~!!!!!!!Python')"
   ]
  },
  {
   "cell_type": "code",
   "execution_count": 50,
   "metadata": {},
   "outputs": [
    {
     "name": "stdout",
     "output_type": "stream",
     "text": [
      "Hi~~~~~~~~~~~!!!!!!!Python\n"
     ]
    }
   ],
   "source": [
    "# read() : 파일의 내용 텍스트 읽기\n",
    "with open('basic.txt', 'r') as file:\n",
    "    content = file.read()\n",
    "    print(content)"
   ]
  },
  {
   "cell_type": "code",
   "execution_count": 54,
   "metadata": {},
   "outputs": [
    {
     "name": "stdout",
     "output_type": "stream",
     "text": [
      "['가', '나', '다', '라', '마', '바', '사', '아', '자', '차', '카', '타', '파', '하']\n",
      "파일 생성 완료\n"
     ]
    }
   ],
   "source": [
    "import random\n",
    "\n",
    "han = list('가나다라마바사아자차카타파하')\n",
    "\n",
    "print(han)\n",
    "\n",
    "with open('info.txt', 'w') as file:\n",
    "    \n",
    "    for i in range(1000):\n",
    "    \n",
    "        name = random.choice(han) + random.choice(han) + random.choice(han)\n",
    "        weight = random.randrange(40, 100)\n",
    "        height = random.randrange(140, 200)\n",
    "\n",
    "        file.write('{},{},{}\\n'.format(name, weight, height))\n",
    "\n",
    "    print('파일 생성 완료')"
   ]
  },
  {
   "cell_type": "code",
   "execution_count": 59,
   "metadata": {},
   "outputs": [
    {
     "name": "stdout",
     "output_type": "stream",
     "text": [
      "아바카,41,195,10.782380013149245,저체중\n",
      "하사마,94,177,30.00414951003862,과체중\n",
      "자바하,89,163,33.49768527230984,과체중\n",
      "바아바,46,149,20.7197873969641,정상 체중\n",
      "가가하,50,169,17.506389832288786,저체중\n",
      "타카가,55,172,18.591130340724717,정상 체중\n",
      "사바자,40,178,12.624668602449185,저체중\n",
      "마카다,40,144,19.290123456790123,정상 체중\n",
      "라파라,96,183,28.666129176744597,과체중\n",
      "마가바,69,147,31.93113980285992,과체중\n",
      "다파라,49,160,19.140624999999996,정상 체중\n",
      "다가사,79,199,19.948991187091234,정상 체중\n",
      "마마타,59,176,19.047004132231404,정상 체중\n",
      "하다나,50,170,17.301038062283737,저체중\n",
      "타아사,86,189,24.075473810923548,과체중\n",
      "나카마,56,160,21.874999999999996,정상 체중\n",
      "라하다,67,149,30.178820773839018,과체중\n",
      "다사다,71,194,18.864916569242215,정상 체중\n",
      "차타사,69,162,26.291723822588015,과체중\n",
      "가다하,96,142,47.60960126958937,과체중\n",
      "파하카,46,188,13.014938886373926,저체중\n",
      "타가타,89,180,27.469135802469133,과체중\n",
      "파자카,85,150,37.77777777777778,과체중\n",
      "아자가,97,175,31.6734693877551,과체중\n",
      "가다다,53,189,14.837210604406373,저체중\n",
      "파라하,77,155,32.04994797086368,과체중\n",
      "파자가,78,168,27.636054421768712,과체중\n",
      "바사마,94,147,43.50039335462076,과체중\n",
      "바나아,45,198,11.47842056932966,저체중\n",
      "타마하,88,149,39.637854150713935,과체중\n",
      "파라마,56,167,20.07960127648894,정상 체중\n"
     ]
    }
   ],
   "source": [
    "with open('info.txt', 'r') as file:\n",
    "    \n",
    "    cnt = 0;\n",
    "    \n",
    "    for line in file :\n",
    "        \n",
    "        if cnt > 30 :\n",
    "            break     \n",
    "       # print(line.strip())\n",
    "        \n",
    "        \n",
    "        name, weight, height = line.strip().split(',')\n",
    "        \n",
    "        # 변수의 값의 유무를 확인하고 값을 처리하지 않는 처리\n",
    "        if(not name) or (not weight) or (not height):\n",
    "            continue\n",
    "            \n",
    "        # 비만도 계산\n",
    "        bmi = int(weight) / ((int(height)/100) * (int(height)/100))\n",
    "        \n",
    "        \n",
    "        result = ''\n",
    "        \n",
    "        if bmi >= 23 :\n",
    "            result = '과체중'\n",
    "        elif bmi >= 18.5 :\n",
    "            result = '정상 체중'\n",
    "        else :\n",
    "            result = '저체중'\n",
    "            \n",
    "        print('{},{},{},{},{}'.format(name, weight, height, bmi, result))    \n",
    "         \n",
    "        cnt+= 1    "
   ]
  }
 ],
 "metadata": {
  "kernelspec": {
   "display_name": "Python 3",
   "language": "python",
   "name": "python3"
  },
  "language_info": {
   "codemirror_mode": {
    "name": "ipython",
    "version": 3
   },
   "file_extension": ".py",
   "mimetype": "text/x-python",
   "name": "python",
   "nbconvert_exporter": "python",
   "pygments_lexer": "ipython3",
   "version": "3.8.5"
  }
 },
 "nbformat": 4,
 "nbformat_minor": 4
}
